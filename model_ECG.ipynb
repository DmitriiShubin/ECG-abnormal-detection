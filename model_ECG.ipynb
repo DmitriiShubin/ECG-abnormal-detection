{
 "cells": [
  {
   "cell_type": "code",
   "execution_count": null,
   "metadata": {},
   "outputs": [],
   "source": [
    "#import keras \n",
    "import numpy as np \n",
    "import os\n",
    "import skimage.io as io\n",
    "import skimage.transform as trans\n",
    "import numpy as np\n",
    "from keras.models import *\n",
    "from keras.layers import *\n",
    "from keras.optimizers import *\n",
    "from keras.callbacks import ModelCheckpoint, LearningRateScheduler\n",
    "from keras import backend as keras\n",
    "\n",
    "#define architecture for EEG recognizer\n",
    "def ECG_rec(input_size,output_size):\n",
    "    inputs = Input(input_size)\n",
    "    conv1_1 = Conv1D(64, 4, activation = 'relu', padding = 'same', kernel_initializer = 'he_normal')(inputs)\n",
    "    pool1_1 = MaxPooling1D(pool_size=2)(conv1_1)\n",
    "    flat_1 = Flatten()(pool1_1)\n",
    "    dense1_1 = Dense(10,activation='relu')(flat_1)\n",
    "    dense1_1 = Dropout(0.5)(dense1_1)\n",
    "    final_1 = Dense(output_size,activation='sigmoid')(dense1_1)\n",
    "                         \n",
    "    conv1_2 = Conv1D(64, 8, activation = 'relu', padding = 'same', kernel_initializer = 'he_normal')(inputs)\n",
    "    pool1_2 = MaxPooling1D(pool_size=2)(conv1_2)\n",
    "    flat_2 = Flatten()(pool1_2)\n",
    "    dense1_2 = Dense(10,activation='relu')(flat_2)\n",
    "    dense1_2 = Dropout(0.5)(dense1_2)\n",
    "    final_2 = Dense(output_size,activation='sigmoid')(dense1_2)\n",
    "    \n",
    "    conv1_3 = Conv1D(64, 16, activation = 'relu', padding = 'same', kernel_initializer = 'he_normal')(inputs)\n",
    "    pool1_3 = MaxPooling1D(pool_size=2)(conv1_3)\n",
    "    flat_3 = Flatten()(pool1_3)\n",
    "    dense1_3 = Dense(10,activation='relu')(flat_3)\n",
    "    dense1_3 = Dropout(0.5)(dense1_3)\n",
    "    final_3 = Dense(output_size,activation='sigmoid')(dense1_3)\n",
    "    \n",
    "    final = Average()([final_1,final_2,final_3])\n",
    "    model = Model(input = inputs, output = final)\n",
    "                           \n",
    "    #model.summary()\n",
    "\n",
    "    return model"
   ]
  }
 ],
 "metadata": {
  "kernelspec": {
   "display_name": "Python 3",
   "language": "python",
   "name": "python3"
  },
  "language_info": {
   "codemirror_mode": {
    "name": "ipython",
    "version": 3
   },
   "file_extension": ".py",
   "mimetype": "text/x-python",
   "name": "python",
   "nbconvert_exporter": "python",
   "pygments_lexer": "ipython3",
   "version": "3.6.7"
  }
 },
 "nbformat": 4,
 "nbformat_minor": 2
}
