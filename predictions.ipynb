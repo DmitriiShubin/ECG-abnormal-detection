{
 "cells": [
  {
   "cell_type": "code",
   "execution_count": 1,
   "metadata": {},
   "outputs": [
    {
     "name": "stderr",
     "output_type": "stream",
     "text": [
      "Using TensorFlow backend.\n"
     ]
    }
   ],
   "source": [
    "import pandas as pd\n",
    "import numpy as np\n",
    "import matplotlib.pyplot as plt\n",
    "import keras as K\n",
    "from keras.models import *\n",
    "from keras import backend as K\n",
    "from keras.layers import *\n",
    "import gc"
   ]
  },
  {
   "cell_type": "code",
   "execution_count": 2,
   "metadata": {},
   "outputs": [
    {
     "data": {
      "text/html": [
       "<div>\n",
       "<style scoped>\n",
       "    .dataframe tbody tr th:only-of-type {\n",
       "        vertical-align: middle;\n",
       "    }\n",
       "\n",
       "    .dataframe tbody tr th {\n",
       "        vertical-align: top;\n",
       "    }\n",
       "\n",
       "    .dataframe thead th {\n",
       "        text-align: right;\n",
       "    }\n",
       "</style>\n",
       "<table border=\"1\" class=\"dataframe\">\n",
       "  <thead>\n",
       "    <tr style=\"text-align: right;\">\n",
       "      <th></th>\n",
       "      <th>0</th>\n",
       "      <th>1</th>\n",
       "      <th>2</th>\n",
       "      <th>3</th>\n",
       "      <th>4</th>\n",
       "      <th>5</th>\n",
       "      <th>6</th>\n",
       "      <th>7</th>\n",
       "      <th>8</th>\n",
       "      <th>9</th>\n",
       "      <th>...</th>\n",
       "      <th>119</th>\n",
       "      <th>120</th>\n",
       "      <th>121</th>\n",
       "      <th>122</th>\n",
       "      <th>123</th>\n",
       "      <th>124</th>\n",
       "      <th>125</th>\n",
       "      <th>126</th>\n",
       "      <th>127</th>\n",
       "      <th>128</th>\n",
       "    </tr>\n",
       "  </thead>\n",
       "  <tbody>\n",
       "    <tr>\n",
       "      <th>0</th>\n",
       "      <td>0.74538</td>\n",
       "      <td>0.40512</td>\n",
       "      <td>0.128420</td>\n",
       "      <td>0.099474</td>\n",
       "      <td>0.114200</td>\n",
       "      <td>0.103230</td>\n",
       "      <td>0.105870</td>\n",
       "      <td>0.106610</td>\n",
       "      <td>0.112800</td>\n",
       "      <td>0.127750</td>\n",
       "      <td>...</td>\n",
       "      <td>0.000000</td>\n",
       "      <td>0.000000</td>\n",
       "      <td>0.0</td>\n",
       "      <td>0.0</td>\n",
       "      <td>0.0</td>\n",
       "      <td>0.0</td>\n",
       "      <td>0.0</td>\n",
       "      <td>0.0</td>\n",
       "      <td>0.0</td>\n",
       "      <td>1.0</td>\n",
       "    </tr>\n",
       "    <tr>\n",
       "      <th>1</th>\n",
       "      <td>0.74866</td>\n",
       "      <td>0.72859</td>\n",
       "      <td>0.383160</td>\n",
       "      <td>0.197020</td>\n",
       "      <td>0.045909</td>\n",
       "      <td>0.076691</td>\n",
       "      <td>0.081215</td>\n",
       "      <td>0.079596</td>\n",
       "      <td>0.074503</td>\n",
       "      <td>0.074752</td>\n",
       "      <td>...</td>\n",
       "      <td>0.000000</td>\n",
       "      <td>0.000000</td>\n",
       "      <td>0.0</td>\n",
       "      <td>0.0</td>\n",
       "      <td>0.0</td>\n",
       "      <td>0.0</td>\n",
       "      <td>0.0</td>\n",
       "      <td>0.0</td>\n",
       "      <td>0.0</td>\n",
       "      <td>1.0</td>\n",
       "    </tr>\n",
       "    <tr>\n",
       "      <th>2</th>\n",
       "      <td>0.82901</td>\n",
       "      <td>0.59209</td>\n",
       "      <td>0.016027</td>\n",
       "      <td>0.053118</td>\n",
       "      <td>0.098701</td>\n",
       "      <td>0.094618</td>\n",
       "      <td>0.081813</td>\n",
       "      <td>0.091729</td>\n",
       "      <td>0.088893</td>\n",
       "      <td>0.091431</td>\n",
       "      <td>...</td>\n",
       "      <td>0.000396</td>\n",
       "      <td>-0.000277</td>\n",
       "      <td>0.0</td>\n",
       "      <td>0.0</td>\n",
       "      <td>0.0</td>\n",
       "      <td>0.0</td>\n",
       "      <td>0.0</td>\n",
       "      <td>0.0</td>\n",
       "      <td>0.0</td>\n",
       "      <td>0.0</td>\n",
       "    </tr>\n",
       "    <tr>\n",
       "      <th>3</th>\n",
       "      <td>0.83462</td>\n",
       "      <td>0.52939</td>\n",
       "      <td>0.070495</td>\n",
       "      <td>0.168920</td>\n",
       "      <td>0.103080</td>\n",
       "      <td>0.118290</td>\n",
       "      <td>0.091153</td>\n",
       "      <td>0.102890</td>\n",
       "      <td>0.094212</td>\n",
       "      <td>0.098071</td>\n",
       "      <td>...</td>\n",
       "      <td>0.000000</td>\n",
       "      <td>0.000000</td>\n",
       "      <td>0.0</td>\n",
       "      <td>0.0</td>\n",
       "      <td>0.0</td>\n",
       "      <td>0.0</td>\n",
       "      <td>0.0</td>\n",
       "      <td>0.0</td>\n",
       "      <td>0.0</td>\n",
       "      <td>0.0</td>\n",
       "    </tr>\n",
       "    <tr>\n",
       "      <th>4</th>\n",
       "      <td>0.83817</td>\n",
       "      <td>0.82017</td>\n",
       "      <td>0.297060</td>\n",
       "      <td>0.246950</td>\n",
       "      <td>0.201970</td>\n",
       "      <td>0.244970</td>\n",
       "      <td>0.217150</td>\n",
       "      <td>0.232860</td>\n",
       "      <td>0.220050</td>\n",
       "      <td>0.223310</td>\n",
       "      <td>...</td>\n",
       "      <td>0.000000</td>\n",
       "      <td>0.000000</td>\n",
       "      <td>0.0</td>\n",
       "      <td>0.0</td>\n",
       "      <td>0.0</td>\n",
       "      <td>0.0</td>\n",
       "      <td>0.0</td>\n",
       "      <td>0.0</td>\n",
       "      <td>0.0</td>\n",
       "      <td>1.0</td>\n",
       "    </tr>\n",
       "  </tbody>\n",
       "</table>\n",
       "<p>5 rows × 129 columns</p>\n",
       "</div>"
      ],
      "text/plain": [
       "         0        1         2         3         4         5         6  \\\n",
       "0  0.74538  0.40512  0.128420  0.099474  0.114200  0.103230  0.105870   \n",
       "1  0.74866  0.72859  0.383160  0.197020  0.045909  0.076691  0.081215   \n",
       "2  0.82901  0.59209  0.016027  0.053118  0.098701  0.094618  0.081813   \n",
       "3  0.83462  0.52939  0.070495  0.168920  0.103080  0.118290  0.091153   \n",
       "4  0.83817  0.82017  0.297060  0.246950  0.201970  0.244970  0.217150   \n",
       "\n",
       "          7         8         9 ...        119       120  121  122  123  124  \\\n",
       "0  0.106610  0.112800  0.127750 ...   0.000000  0.000000  0.0  0.0  0.0  0.0   \n",
       "1  0.079596  0.074503  0.074752 ...   0.000000  0.000000  0.0  0.0  0.0  0.0   \n",
       "2  0.091729  0.088893  0.091431 ...   0.000396 -0.000277  0.0  0.0  0.0  0.0   \n",
       "3  0.102890  0.094212  0.098071 ...   0.000000  0.000000  0.0  0.0  0.0  0.0   \n",
       "4  0.232860  0.220050  0.223310 ...   0.000000  0.000000  0.0  0.0  0.0  0.0   \n",
       "\n",
       "   125  126  127  128  \n",
       "0  0.0  0.0  0.0  1.0  \n",
       "1  0.0  0.0  0.0  1.0  \n",
       "2  0.0  0.0  0.0  0.0  \n",
       "3  0.0  0.0  0.0  0.0  \n",
       "4  0.0  0.0  0.0  1.0  \n",
       "\n",
       "[5 rows x 129 columns]"
      ]
     },
     "execution_count": 2,
     "metadata": {},
     "output_type": "execute_result"
    }
   ],
   "source": [
    "#load ECG dataset\n",
    "df = pd.read_csv('data/oof.csv',index_col=0,header=0)\n",
    "df.head()"
   ]
  },
  {
   "cell_type": "code",
   "execution_count": 3,
   "metadata": {},
   "outputs": [
    {
     "data": {
      "text/plain": [
       "(100, 128, 1)"
      ]
     },
     "execution_count": 3,
     "metadata": {},
     "output_type": "execute_result"
    }
   ],
   "source": [
    "#define X/Y\n",
    "X = df.iloc[:,:128].values\n",
    "Y = df.iloc[:,128].values\n",
    "X = X.reshape(X.shape[0],128,1)\n",
    "\n",
    "\n",
    "gc.collect()\n",
    "X.shape"
   ]
  },
  {
   "cell_type": "code",
   "execution_count": 4,
   "metadata": {},
   "outputs": [
    {
     "data": {
      "text/plain": [
       "[<matplotlib.lines.Line2D at 0x153bd014cc0>]"
      ]
     },
     "execution_count": 4,
     "metadata": {},
     "output_type": "execute_result"
    },
    {
     "data": {
      "image/png": "[encoded data removed]",
      "text/plain": [
       "<Figure size 432x288 with 1 Axes>"
      ]
     },
     "metadata": {
      "needs_background": "light"
     },
     "output_type": "display_data"
    }
   ],
   "source": [
    "plt.plot(X[0,:,0])"
   ]
  },
  {
   "cell_type": "code",
   "execution_count": 35,
   "metadata": {},
   "outputs": [
    {
     "name": "stderr",
     "output_type": "stream",
     "text": [
      "C:\\Users\\dima9\\Anaconda3\\envs\\venv\\lib\\site-packages\\ipykernel_launcher.py:38: UserWarning: Update your `Model` call to the Keras 2 API: `Model(inputs=Tensor(\"in..., outputs=Tensor(\"av...)`\n"
     ]
    }
   ],
   "source": [
    "output_size=(1) #input shape of the data\n",
    "input_size=(128,1) #output shape of the data\n",
    "seed = 10\n",
    "_fold = 5\n",
    "\n",
    "pred = np.zeros((100, 1))\n",
    "for seed in range(1,n_seed+1):\n",
    "    for _fold in range(n_fold):\n",
    "        K.clear_session()\n",
    "        model = ECG_rec(input_size,output_size)\n",
    "        model.load_weights('models_weights/ecg_recognizer/model-ECG_rec-seed{}-fold{}.h5'.format(seed,_fold))\n",
    "        pred += model.predict(X)\n",
    "        K.clear_session()\n",
    "        del model\n",
    "        gc.collect()"
   ]
  },
  {
   "cell_type": "code",
   "execution_count": 36,
   "metadata": {},
   "outputs": [
    {
     "data": {
      "text/plain": [
       "0.02546184323058817"
      ]
     },
     "execution_count": 36,
     "metadata": {},
     "output_type": "execute_result"
    }
   ],
   "source": [
    "np.abs(Y - (pred/50)[:,0]).mean()"
   ]
  }
 ],
 "metadata": {
  "kernelspec": {
   "display_name": "Python 3",
   "language": "python",
   "name": "python3"
  },
  "language_info": {
   "codemirror_mode": {
    "name": "ipython",
    "version": 3
   },
   "file_extension": ".py",
   "mimetype": "text/x-python",
   "name": "python",
   "nbconvert_exporter": "python",
   "pygments_lexer": "ipython3",
   "version": "3.6.7"
  }
 },
 "nbformat": 4,
 "nbformat_minor": 2
}
